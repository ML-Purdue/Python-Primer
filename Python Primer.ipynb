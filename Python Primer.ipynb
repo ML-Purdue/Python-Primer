{
 "cells": [
  {
   "cell_type": "markdown",
   "metadata": {},
   "source": [
    "# A Python Primer\n",
    "### An unfriendly introduction to Python data structures and tricks\n",
    "#### Ruihang Du\n"
   ]
  },
  {
   "cell_type": "markdown",
   "metadata": {},
   "source": [
    "### Primitive Types in Python\n",
    "this include strings, ints , floats, boolean "
   ]
  },
  {
   "cell_type": "code",
   "execution_count": 3,
   "metadata": {},
   "outputs": [
    {
     "name": "stdout",
     "output_type": "stream",
     "text": [
      "helloworld\n",
      "1200\n",
      "12.34\n",
      "False\n",
      "False\n",
      "True\n"
     ]
    }
   ],
   "source": [
    "# a string is a sequence of characters\n",
    "str_a = \"hello\" # Creates a String\n",
    "str_b = \"world\" # creates another string\n",
    "print(str_a + str_b) # concatenates two strings and prints them\n",
    "\n",
    "# ints are whole numbers\n",
    "int_a = 1200\n",
    "print(int_a)\n",
    "\n",
    "# floats are arbitrary precision numbers\n",
    "float_b = 12.34\n",
    "print(float_b)\n",
    "\n",
    "# booleans are true and false values\n",
    "b_true = True\n",
    "b_false = False\n",
    "\n",
    "# Boolean operations can be performed in python in a number of ways\n",
    "print(not b_true) # prints false\n",
    "print(b_true and b_false) # prints false because true && false is false\n",
    "print(b_true or b_false) # prints true because true || false is true"
   ]
  },
  {
   "cell_type": "markdown",
   "metadata": {},
   "source": [
    "### Basic Flow Control\n",
    "flow control is ways of redirecting program execution.\n",
    "\n",
    "conditional: if / elif / else\n",
    "\n",
    "loops: while, for"
   ]
  },
  {
   "cell_type": "code",
   "execution_count": 9,
   "metadata": {},
   "outputs": [
    {
     "name": "stdout",
     "output_type": "stream",
     "text": [
      "a is 3\n",
      "3\n",
      "2\n",
      "1\n",
      "0\n",
      "1\n",
      "2\n",
      "3\n",
      "4\n",
      "5\n",
      "6\n",
      "7\n",
      "8\n",
      "9\n"
     ]
    }
   ],
   "source": [
    "# an if statement checks if a condition is true and executes the statement following it\n",
    "# an elif follows and if statement, and only runs if the original if fails\n",
    "# an else will catch any condition not handled by an if and elif\n",
    "\n",
    "a = 3\n",
    "\n",
    "if a == 5:\n",
    "    print(\"a is 5\")\n",
    "elif a == 3:\n",
    "    print(\"a is 3\")\n",
    "else:\n",
    "    print(\"a is not 3 or 5\")\n",
    "\n",
    "\n",
    "# a while loop runs as long as a condition is true. \n",
    "# equivalent to a while loop in any otherlanguage\n",
    "\n",
    "while(a > 0):\n",
    "    print(a)        # prints 3, 2, 1\n",
    "    a -= 1\n",
    "\n",
    "# a for loop runs through a range/iterable of values\n",
    "\n",
    "for i in range(10): # range returns an iterable of 0, 1 .. 9 \n",
    "    print(i)        # prints 0, 1 .. 9"
   ]
  },
  {
   "cell_type": "markdown",
   "metadata": {},
   "source": [
    "### List in Python\n",
    "a List is a ordered collection of Python objects."
   ]
  },
  {
   "cell_type": "code",
   "execution_count": 12,
   "metadata": {
    "scrolled": false
   },
   "outputs": [
    {
     "name": "stdout",
     "output_type": "stream",
     "text": [
      "[1, 2, 3, 4]\n",
      "4\n",
      "3 3\n",
      "[1, 2, 3, 'a']\n",
      "[1, 2, 3, 'a']\n",
      "[1]\n",
      "[1, 2, 3]\n",
      "[2, 3, 'a']\n",
      "[1, 2, 3, 'a', 'b']\n",
      "b [1, 2, 3, 'a']\n",
      "1 [2, 3, 'a']\n",
      "[2, 'a']\n",
      "[2, 'a', 1, 'a']\n",
      "[2, 1, 'a']\n",
      "True\n",
      "4\n",
      "1\n",
      "10\n"
     ]
    }
   ],
   "source": [
    "# Data structure 1 -- List\n",
    "a = [1, 2, 3, 4]    # Create a list\n",
    "print(a)         # Prints \"[1, 2, 3, 4]\"\n",
    "print(len(a))    # Prints \"4\"\n",
    "print(a[2], a[-2])  # Prints \"3 3\"\n",
    "\n",
    "a[3] = 'a'       # Replacing element in a list. Elements can be of heterogenous types\n",
    "print(a)         # Prints \"[1, 2, 3, 'a']\"\n",
    "\n",
    "# List slicing -- select a part of a list\n",
    "print(a[:])      # Prints \"[1, 2, 3, 'a']\"\n",
    "print(a[:1])     # Prints \"[1]\"\n",
    "print(a[:-1])    # Prints \"[1, 2, 3]\"\n",
    "print(a[1:])     # Prints \"[2, 3, 'a']\"\n",
    "\n",
    "a.append('b')    # Append 'b' to the end\n",
    "print(a)         # Prints \"[1, 2, 3, 'a', 'b']\"\n",
    "\n",
    "e = a.pop()      # Remove and return the last element of the list\n",
    "print(e, a)      # Prints \"b [1, 2, 3, 'a']\"\n",
    "\n",
    "f = a.pop(0)     # Remove and return the first element of the list\n",
    "print(f, a)      # Prints \"1 [2, 3, 'a']\"\n",
    "\n",
    "del a[1]         # Deletes the second element of the list without returning it\n",
    "print(a)         # Prints \"[2, 'a']\"\n",
    "\n",
    "a += [1, 'a']    # concatenate 2 lists\n",
    "print(a)         # Prints \"[2, 'a', 1, 'a']\"\n",
    "\n",
    "a.remove('a')    # Remove the first occurance of 'a'\n",
    "print(a)         # Prints \"[2, 1, 'a']\"\n",
    "\n",
    "print(2 in a)    # Check if 2 is an element of the list; prints \"True\"\n",
    "\n",
    "\n",
    "b = [1, 2, 3, 4] # redefine list a\n",
    "\n",
    "print(max(b))    # Prints the maximum value in the list b\n",
    "print(min(b))    # Prints the minimum value in the list b\n",
    "print(sum(b))    # Prints the sum of all the valuse in list b"
   ]
  },
  {
   "cell_type": "markdown",
   "metadata": {},
   "source": [
    "### Dictionary\n",
    "A dictionary in Python is kind of equivalent to a hash map in other languages.\n",
    "Basically, it is a collection of ordered pairs of objects."
   ]
  },
  {
   "cell_type": "code",
   "execution_count": null,
   "metadata": {},
   "outputs": [],
   "source": [
    "# Data structure 2 -- Dictionary\n",
    "d = {}          # One common way of creating an empty dictionary\n",
    "print(d)        # Prints \"{}\"\n",
    "\n",
    "d = dict()      # Another common way of creating an empty dictionary\n",
    "print(d)        # Prints \"{}\"\n",
    "\n",
    "d = {'a':1, 'b':2}    # Initializing a dictionary with key and value\n",
    "print(d)              # Prints \"{'a':1, 'b':2}\"\n",
    "\n",
    "d = dict(zip(['a', 'b', 'c'], [1, 2, 3]))    # Alternatively, zip the list of keys and the list of value to create a dictionary\n",
    "print(d)                                     # Prints \"{'a':1, 'c':3, 'b':2}\". Note here that the keys are not necessarily ordered\n",
    "\n",
    "print(d['a'])         # Access value by key. Prints \"1\"\n",
    "\n",
    "keys = d.keys()       # Get the list of keys\n",
    "print(keys)           # Prints \"['a', 'c', 'b']\"\n",
    "\n",
    "vals = d.values()     # Get the list of values\n",
    "print(vals)           # Prints \"[1, 3, 2]\"\n",
    "\n",
    "d['x'] = [1, 2]       # Add a key-value pair to the dictionary. The value can be of any data type\n",
    "print(d)              # Prints \"{'a':1, 'x':[1, 2], 'c':3, 'b':2}\"\n",
    "\n",
    "del d['a']            # Delete a key-value pair from the dictionary\n",
    "print(d)              # Prints \"{'x':[1, 2], 'c':3, 'b':2}\"\n",
    "\n",
    "print('a' in d)       # Check if the dictionary has a key 'a'. Prints \"False\"\n",
    "\n",
    "''' Note that all keys in the dictionary must be hashable '''\n",
    "try:\n",
    "    d[['a']] = 1      # Here, List is an unhashable type. Therefore an error will occur\n",
    "except Exception as e:\n",
    "    print(e)          # Print \"unhashable type: 'list'\""
   ]
  },
  {
   "cell_type": "markdown",
   "metadata": {},
   "source": [
    "### Tuple\n",
    "A tuple is basically a immutable list, that is, a list that cannot be modified."
   ]
  },
  {
   "cell_type": "code",
   "execution_count": null,
   "metadata": {},
   "outputs": [],
   "source": [
    "# Data structure 3 -- Tuple\n",
    "t = (1, 2)    # Initializing a tuple\n",
    "print(t)      # Prints \"(1, 2)\"\n",
    "\n",
    "''' Once a tuple is initialized, it cannot be modified '''\n",
    "try:\n",
    "    t[0] = 2\n",
    "except Exception as e:\n",
    "    print(e)  # Prints \"'tuple' object does not support item assignment\"\n",
    "    \n",
    "x, y = t      # A tuple can be unpacked to as many variables as there are elements in the tuple\n",
    "print(x, y)   # Prints \"1 2\"\n",
    "\n",
    "''' Also, a tuple can be a key in a dictionary '''\n",
    "d[t] = [1, 2]\n",
    "print(d)      # Prints \"{(1, 2): [1, 2], 'x':[1, 2], 'c':3, 'b':2}\"\n",
    "\n",
    "''' Of course, a tuple can be converted into a list '''\n",
    "l = list(t)\n",
    "print(l)      # Prints \"[1, 2]\"\n",
    "\n",
    "''' And vice versa '''\n",
    "t1 = tuple(l)\n",
    "print(t1)     # Prints \"(1, 2)\"\n"
   ]
  },
  {
   "cell_type": "markdown",
   "metadata": {},
   "source": [
    "### Data structure comprehensions in Python\n",
    "Comprehensions can make your life easier, but your code uglier."
   ]
  },
  {
   "cell_type": "code",
   "execution_count": null,
   "metadata": {},
   "outputs": [],
   "source": [
    "# List comprehension\n",
    "\n",
    "''' We can initialize a list using a for loop '''\n",
    "mylist = []            # Empty list\n",
    "for x in range(10):    # This is equivalent to for(int i = 0; i < 10; i++) {} in Java or C++\n",
    "    if x % 2 == 0:\n",
    "        mylist.append(x)\n",
    "        \n",
    "print(mylist)          # Prints \"[0, 2, 4, 6, 8]\"\n",
    "\n",
    "# Alternatively, using list comprehension\n",
    "mycomplist = [x for x in range(10) if not x % 2]\n",
    "print(mycomplist)      # Prints \"[0, 2, 4, 6, 8]\""
   ]
  },
  {
   "cell_type": "code",
   "execution_count": null,
   "metadata": {},
   "outputs": [],
   "source": [
    "# Dictionary comprehension\n",
    "\n",
    "''' We can also make a dictionary in a similar manner '''\n",
    "mydict = {}\n",
    "for x in range(10):\n",
    "    mydict[x] = x ** 2\n",
    "    \n",
    "print(mydict)      # Prints \"{0: 0, 1: 1, 2: 4, 3: 9, 4: 16, 5: 25, 6: 36, 7: 49, 8: 64, 9: 81}\"\n",
    "\n",
    "mycompdict = {x: x ** 2 for x in range(10)}\n",
    "print(mycompdict)  # Prints \"{0: 0, 1: 1, 2: 4, 3: 9, 4: 16, 5: 25, 6: 36, 7: 49, 8: 64, 9: 81}\""
   ]
  },
  {
   "cell_type": "markdown",
   "metadata": {},
   "source": [
    "### Lambda functions\n",
    "Lambda functions, or anonymous functions, allow us to define a function in place. It can come in handy when working with data structures."
   ]
  },
  {
   "cell_type": "code",
   "execution_count": null,
   "metadata": {},
   "outputs": [],
   "source": [
    "# Lambda expression\n",
    "\n",
    "''' function my_add() '''\n",
    "def my_add(x, y):\n",
    "    return 2 * x + 3 * y\n",
    "\n",
    "v1 = my_add(1, 2)\n",
    "print(v1)    # Prints \"8\"\n",
    "\n",
    "# Using lambda expression\n",
    "inline_add = lambda x, y: 2 * x + 3 * y    # lambda is equivalent to a single-line function\n",
    "v2 = inline_add(1, 2)\n",
    "print(v2)    # Prints \"8\""
   ]
  },
  {
   "cell_type": "markdown",
   "metadata": {},
   "source": [
    "### Other functions that can make your life easier\n",
    "Map, filter, and reduce are 3 built-in functions that can hopefully be your friends."
   ]
  },
  {
   "cell_type": "code",
   "execution_count": 7,
   "metadata": {},
   "outputs": [
    {
     "name": "stdout",
     "output_type": "stream",
     "text": [
      "[1, 4, 9, 16, 25, 36]\n",
      "[1, 4, 9, 16, 25, 36]\n",
      "[2, 4, 6]\n",
      "[2, 4, 6]\n",
      "21\n",
      "21\n"
     ]
    }
   ],
   "source": [
    "# Map, Filter, Reduce\n",
    "import functools\n",
    "\n",
    "l_1 = [1, 2, 3, 4, 5, 6]\n",
    "\n",
    "''' Map applies a function to every element in a list '''\n",
    "l_2 = [x ** 2 for x in l_1]    # One way to construct a list from another list\n",
    "print(l_2)                     # Prints \"[1, 4, 9, 16, 25, 36]\"\n",
    "\n",
    "l_3 = list(map(lambda x: x ** 2, l_1))    # Another way is to use map to apply the function g(x) = x ^ 2 to every x in l_1\n",
    "print(l_3)                                # Prints \"[1, 4, 9, 16, 25, 36]\"\n",
    "\n",
    "''' Filter select a subset of the list that satisfies certain constraints '''\n",
    "l_4 = [x for x in l_1 if not x % 2]    # Picks out even numbers in l_1\n",
    "print(l_4)                             # Prints \"[2, 4, 6]\"\n",
    "\n",
    "l_5 = list(filter(lambda x: not x % 2, l_1))  # Another way\n",
    "print(l_5)                                    # Prints \"[2, 4, 6]\"\n",
    "\n",
    "''' Reduce yields one constant as the output given a list as the input '''\n",
    "s_1 = sum(l_1)    # One way to sum all elements in a list\n",
    "print(s_1)        # Prints \"21\"\n",
    "\n",
    "s_2 = functools.reduce(lambda x, y: x + y, l_1)\n",
    "''' What is happening in here is that\n",
    "    the lambda function is continuously\n",
    "    applied to 2 adjacent elements in the list\n",
    "    and reduce the number of elements by 1 each time\n",
    "    until there's only one element left \n",
    "    In this example:\n",
    "    [1, 2, 3, 4, 5, 6]\n",
    "    [3, 3, 4, 5, 6]\n",
    "    [6, 4, 5, 6]\n",
    "    [10, 5, 6]\n",
    "    [15, 6]\n",
    "    [21]\n",
    "    \n",
    "    And so 21 is returned '''\n",
    "print(s_2)       # Prints \"21\""
   ]
  },
  {
   "cell_type": "markdown",
   "metadata": {},
   "source": [
    "## Additional Resources\n",
    "\n",
    "- https://docs.python.org/3/\n",
    "- https://www.hackerrank.com/domains/python\n",
    "- https://codingbat.com/python\n",
    "- https://learnpythonthehardway.org/python3/"
   ]
  },
  {
   "cell_type": "code",
   "execution_count": null,
   "metadata": {},
   "outputs": [],
   "source": []
  }
 ],
 "metadata": {
  "kernelspec": {
   "display_name": "Python 3",
   "language": "python",
   "name": "python3"
  },
  "language_info": {
   "codemirror_mode": {
    "name": "ipython",
    "version": 3
   },
   "file_extension": ".py",
   "mimetype": "text/x-python",
   "name": "python",
   "nbconvert_exporter": "python",
   "pygments_lexer": "ipython3",
   "version": "3.6.5"
  }
 },
 "nbformat": 4,
 "nbformat_minor": 2
}
